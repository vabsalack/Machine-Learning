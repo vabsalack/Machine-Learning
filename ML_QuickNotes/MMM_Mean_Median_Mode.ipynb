{
 "cells": [
  {
   "cell_type": "markdown",
   "id": "792f734f",
   "metadata": {},
   "source": [
    "**The mean value is the average value**"
   ]
  },
  {
   "cell_type": "code",
   "execution_count": 2,
   "id": "d7722267",
   "metadata": {},
   "outputs": [],
   "source": [
    "import numpy"
   ]
  },
  {
   "cell_type": "code",
   "execution_count": 7,
   "id": "4d3ec7e3",
   "metadata": {},
   "outputs": [
    {
     "data": {
      "text/plain": [
       "83.35714285714286"
      ]
     },
     "execution_count": 7,
     "metadata": {},
     "output_type": "execute_result"
    }
   ],
   "source": [
    "speed = [99,86,87,88,111,86,103,87,94,78,77,85,86, 0]\n",
    "avg = numpy.mean(speed)\n",
    "avg"
   ]
  },
  {
   "cell_type": "markdown",
   "id": "bf5ee04a",
   "metadata": {},
   "source": [
    "***The median value is the value in the middle, \n",
    "after you have sorted all the valuesm***\n",
    "\n",
    "If there are two numbers in the middle, divide the sum of those numbers by two."
   ]
  },
  {
   "cell_type": "code",
   "execution_count": 8,
   "id": "33f8a31b",
   "metadata": {},
   "outputs": [
    {
     "name": "stdout",
     "output_type": "stream",
     "text": [
      "86.5\n"
     ]
    },
    {
     "data": {
      "text/plain": [
       "86.5"
      ]
     },
     "execution_count": 8,
     "metadata": {},
     "output_type": "execute_result"
    }
   ],
   "source": [
    "speed.sort()\n",
    "l = len(speed)\n",
    "print(speed[l//2] if l%2 != 0 else (speed[l//2-1] + speed[l//2])/2)\n",
    "medi = numpy.median(speed)\n",
    "medi"
   ]
  },
  {
   "cell_type": "markdown",
   "id": "1c282016",
   "metadata": {},
   "source": [
    "***The Mode value is the value that appears the most number of times***"
   ]
  },
  {
   "cell_type": "code",
   "execution_count": 11,
   "id": "1d8041c1",
   "metadata": {},
   "outputs": [],
   "source": [
    "from scipy import stats"
   ]
  },
  {
   "cell_type": "code",
   "execution_count": 13,
   "id": "5d4fef57",
   "metadata": {},
   "outputs": [
    {
     "name": "stdout",
     "output_type": "stream",
     "text": [
      "ModeResult(mode=array([86]), count=array([3]))\n"
     ]
    }
   ],
   "source": [
    "mode = stats.mode(speed)\n",
    "mode"
   ]
  },
  {
   "cell_type": "code",
   "execution_count": null,
   "id": "20ba2ac8",
   "metadata": {},
   "outputs": [],
   "source": []
  }
 ],
 "metadata": {
  "kernelspec": {
   "display_name": "Python 3 (ipykernel)",
   "language": "python",
   "name": "python3"
  },
  "language_info": {
   "codemirror_mode": {
    "name": "ipython",
    "version": 3
   },
   "file_extension": ".py",
   "mimetype": "text/x-python",
   "name": "python",
   "nbconvert_exporter": "python",
   "pygments_lexer": "ipython3",
   "version": "3.10.1"
  }
 },
 "nbformat": 4,
 "nbformat_minor": 5
}
