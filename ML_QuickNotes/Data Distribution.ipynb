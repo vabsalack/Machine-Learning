{
 "cells": [
  {
   "cell_type": "markdown",
   "id": "b19f0f51",
   "metadata": {},
   "source": [
    "***In the real world, the data sets are much bigger, but it can be difficult to gather real world data, at least at an early stage of a project.***\n",
    "\n",
    "To create big data sets for testing, we use the Python module NumPy, which comes with a number of methods to create random data sets, of any size."
   ]
  },
  {
   "cell_type": "code",
   "execution_count": 5,
   "id": "860c392c",
   "metadata": {},
   "outputs": [],
   "source": [
    "import numpy\n",
    "import matplotlib.pyplot as plt"
   ]
  },
  {
   "cell_type": "code",
   "execution_count": 9,
   "id": "679c8204",
   "metadata": {},
   "outputs": [
    {
     "data": {
      "text/plain": [
       "array([4.20119112e+00, 8.02164914e-01, 4.86092585e+00, 1.01904186e+00,\n",
       "       1.95483359e+00, 1.21700779e-01, 9.72491150e-01, 4.41235226e+00,\n",
       "       1.33120456e+00, 2.75182341e+00, 9.79868611e-01, 4.41391865e+00,\n",
       "       6.15601682e-01, 1.34995964e+00, 2.73032832e+00, 1.79814183e+00,\n",
       "       1.53806284e+00, 1.76007276e+00, 7.84550121e-01, 3.63266235e+00,\n",
       "       1.58567269e+00, 4.95051466e+00, 4.88041241e+00, 2.56793135e+00,\n",
       "       1.45532748e+00, 4.50636299e+00, 5.61616938e-01, 1.75577258e+00,\n",
       "       3.52731858e+00, 3.00566888e+00, 4.78877468e+00, 2.54665466e+00,\n",
       "       4.93211168e+00, 1.43054931e+00, 1.45987261e+00, 3.21499147e-01,\n",
       "       2.39608843e+00, 1.75996208e+00, 9.15330438e-01, 1.60933868e+00,\n",
       "       2.37836786e-01, 1.11756999e-01, 1.11031468e+00, 1.55065888e+00,\n",
       "       3.61343133e+00, 2.27326487e+00, 4.62845604e+00, 2.10590531e+00,\n",
       "       6.97796314e-01, 4.37735473e+00, 1.96340773e+00, 2.51898210e+00,\n",
       "       4.33342689e+00, 1.49023630e+00, 4.23257760e+00, 4.88865353e+00,\n",
       "       4.13770685e+00, 1.37710438e-01, 4.87287407e+00, 4.27823128e+00,\n",
       "       2.42619210e+00, 2.69674962e+00, 1.06378589e+00, 4.28795715e+00,\n",
       "       1.18975464e+00, 4.49127580e+00, 2.45384922e+00, 4.83680678e+00,\n",
       "       2.83964168e+00, 2.08067909e-03, 7.09547257e-01, 1.04511073e+00,\n",
       "       2.96443054e+00, 2.76047855e+00, 2.75265988e+00, 3.76792746e+00,\n",
       "       6.14780333e-01, 1.20232542e-01, 3.87071966e+00, 2.67017745e+00,\n",
       "       3.91936864e+00, 3.43115629e+00, 2.90249944e+00, 1.32926730e+00,\n",
       "       2.79785661e+00, 1.26341504e+00, 1.72177683e+00, 3.18014584e+00,\n",
       "       3.42284359e+00, 3.07776069e+00, 2.10639418e+00, 2.52346674e+00,\n",
       "       6.16692830e-01, 3.46755673e+00, 3.07593833e+00, 1.27046975e+00,\n",
       "       2.70816164e-01, 4.10378587e+00, 2.88352550e+00, 4.95897053e+00,\n",
       "       1.93621963e+00, 2.88861729e+00, 1.98631366e+00, 3.29829720e+00,\n",
       "       4.49722278e+00, 1.72905944e-01, 3.67593255e+00, 1.55008018e+00,\n",
       "       1.38307233e+00, 1.72892404e+00, 4.89240153e+00, 1.01803846e-01,\n",
       "       1.97435558e+00, 1.45388189e+00, 1.34373926e+00, 4.38443875e+00,\n",
       "       4.81101167e+00, 1.89866583e+00, 1.68512326e+00, 3.54593407e+00,\n",
       "       2.44188390e+00, 2.81880857e+00, 2.52278643e+00, 1.68127529e+00,\n",
       "       4.27836051e+00, 1.04186494e+00, 1.23448174e+00, 4.76447621e+00,\n",
       "       3.95122942e+00, 8.41005334e-01, 3.23717930e+00, 3.70658720e+00,\n",
       "       2.03679226e-01, 3.16478676e+00, 7.42214312e-01, 2.12858211e+00,\n",
       "       3.44074330e+00, 1.85444822e+00, 4.20087489e+00, 6.13591479e-01,\n",
       "       1.62239243e+00, 8.21295075e-01, 1.54317494e-01, 4.79220147e+00,\n",
       "       1.14344556e-01, 7.66049559e-01, 1.40464084e+00, 5.98734858e-01,\n",
       "       4.66860551e+00, 3.42518035e+00, 3.89023760e+00, 2.90506672e+00,\n",
       "       3.73347742e+00, 1.11289071e+00, 2.16355510e+00, 3.64371595e+00,\n",
       "       1.07070689e+00, 1.98239036e+00, 1.63926375e+00, 2.34176183e+00,\n",
       "       3.59960952e+00, 3.73394645e+00, 4.78229381e+00, 3.81726345e+00,\n",
       "       4.74140419e+00, 2.68441530e+00, 4.94427125e+00, 4.99414416e+00,\n",
       "       3.08146571e+00, 3.94471085e+00, 2.85882876e+00, 1.85067028e+00,\n",
       "       2.86262716e+00, 1.84131316e+00, 2.33933631e+00, 3.10501567e+00,\n",
       "       2.68990833e+00, 1.82704779e+00, 4.75873935e+00, 3.86781447e+00,\n",
       "       1.67244042e+00, 1.74506708e+00, 1.59655979e+00, 2.32247615e+00,\n",
       "       4.26666490e+00, 2.78911336e+00, 3.13559330e+00, 3.87292490e+00,\n",
       "       8.29068619e-01, 3.15234322e+00, 2.49948739e+00, 2.05488481e+00,\n",
       "       1.56481941e+00, 3.68579899e+00, 1.70652889e+00, 1.48202146e+00,\n",
       "       1.17352598e+00, 4.44236842e+00, 5.60254307e-01, 4.03642202e+00,\n",
       "       4.32350179e+00, 3.68827332e+00, 1.13743546e+00, 5.07346671e-01,\n",
       "       1.83576388e+00, 3.59217968e-01, 2.55961270e+00, 6.36365371e-01,\n",
       "       3.85895772e+00, 1.25873561e+00, 4.96553727e+00, 2.04369167e+00,\n",
       "       4.80216947e+00, 2.37551284e+00, 4.19695787e+00, 1.58474145e+00,\n",
       "       1.10238568e+00, 3.65813349e+00, 1.59560499e+00, 3.29818259e+00,\n",
       "       1.86771440e+00, 1.57183940e+00, 2.62126134e+00, 1.90044895e+00,\n",
       "       4.75718679e+00, 4.31587817e+00, 1.04396949e+00, 5.48910182e-01,\n",
       "       2.89822750e+00, 3.00412525e+00, 2.22510092e+00, 3.52140403e+00,\n",
       "       3.10151133e-01, 2.67726825e+00, 1.16643856e+00, 1.02455489e+00,\n",
       "       1.58397397e-01, 1.83888799e+00, 3.08560371e+00, 3.52868328e+00,\n",
       "       2.94931259e+00, 2.40996037e+00, 1.52693301e+00, 3.89032032e+00,\n",
       "       3.59975199e+00, 4.84346700e+00, 3.58616176e+00, 3.66704185e+00,\n",
       "       5.28248550e-01, 2.39291517e+00])"
      ]
     },
     "execution_count": 9,
     "metadata": {},
     "output_type": "execute_result"
    }
   ],
   "source": [
    "x = numpy.random.uniform(0, 5, 250)\n",
    "x"
   ]
  },
  {
   "cell_type": "code",
   "execution_count": 10,
   "id": "0aed61fa",
   "metadata": {},
   "outputs": [
    {
     "data": {
      "image/png": "[encoded data removed]",
      "text/plain": [
       "<Figure size 432x288 with 1 Axes>"
      ]
     },
     "metadata": {
      "needs_background": "light"
     },
     "output_type": "display_data"
    }
   ],
   "source": [
    "plt.hist(x, 7)\n",
    "plt.show()"
   ]
  },
  {
   "cell_type": "markdown",
   "id": "fe158342",
   "metadata": {},
   "source": [
    "***Normal Data Distribution or Gaussian data distribution***"
   ]
  },
  {
   "cell_type": "markdown",
   "id": "293de145",
   "metadata": {},
   "source": [
    "to create an array where the values are concentrated around a given value.\n"
   ]
  },
  {
   "cell_type": "code",
   "execution_count": 11,
   "id": "add30342",
   "metadata": {},
   "outputs": [
    {
     "data": {
      "image/png": "[encoded data removed]",
      "text/plain": [
       "<Figure size 432x288 with 1 Axes>"
      ]
     },
     "metadata": {
      "needs_background": "light"
     },
     "output_type": "display_data"
    }
   ],
   "source": [
    "#(mean, std, no.of.values)\n",
    "x = numpy.random.normal(50, 10, 100000)\n",
    "plt.hist(x, 100)\n",
    "plt.show()"
   ]
  },
  {
   "cell_type": "code",
   "execution_count": 12,
   "id": "a9426301",
   "metadata": {},
   "outputs": [],
   "source": [
    "import math"
   ]
  },
  {
   "cell_type": "code",
   "execution_count": 18,
   "id": "23365c5d",
   "metadata": {},
   "outputs": [
    {
     "data": {
      "text/plain": [
       "50.0"
      ]
     },
     "execution_count": 18,
     "metadata": {},
     "output_type": "execute_result"
    }
   ],
   "source": [
    "\n",
    "# f = lambda x: (1/((math.sqrt(2*math.pi))*10)*((math.e)**(-(((x - 50)/(10))**2))))\n",
    "f = lambda x: (50*((math.e)**(-(((x - 50)/(10))**2))))\n",
    "f(50)"
   ]
  },
  {
   "cell_type": "code",
   "execution_count": 25,
   "id": "8834c149",
   "metadata": {},
   "outputs": [
    {
     "data": {
      "image/png": "[encoded data removed]",
      "text/plain": [
       "<Figure size 432x288 with 1 Axes>"
      ]
     },
     "metadata": {
      "needs_background": "light"
     },
     "output_type": "display_data"
    }
   ],
   "source": [
    "x = [i for i in range(-100, 100)]\n",
    "plt.plot(x, list(map(f, x)))\n",
    "plt.show()"
   ]
  },
  {
   "cell_type": "code",
   "execution_count": null,
   "id": "176d860e",
   "metadata": {},
   "outputs": [],
   "source": []
  }
 ],
 "metadata": {
  "kernelspec": {
   "display_name": "Python 3 (ipykernel)",
   "language": "python",
   "name": "python3"
  },
  "language_info": {
   "codemirror_mode": {
    "name": "ipython",
    "version": 3
   },
   "file_extension": ".py",
   "mimetype": "text/x-python",
   "name": "python",
   "nbconvert_exporter": "python",
   "pygments_lexer": "ipython3",
   "version": "3.10.1"
  }
 },
 "nbformat": 4,
 "nbformat_minor": 5
}
