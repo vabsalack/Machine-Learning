{
 "cells": [
  {
   "cell_type": "markdown",
   "id": "a149e58d",
   "metadata": {},
   "source": [
    "***Machine Learning - Standard Deviation***"
   ]
  },
  {
   "cell_type": "markdown",
   "id": "10910088",
   "metadata": {},
   "source": [
    "***Standard deviation is a number that describes how spread out the values are.***\n",
    "\n",
    "A low standard deviation means that most of the numbers are close to the mean (average) value.\n",
    "\n",
    "A high standard deviation means that the values are spread out over a wider range.\n",
    "\n",
    "***Standard Deviation is often represented by the symbol Sigma: σ***"
   ]
  },
  {
   "cell_type": "code",
   "execution_count": 4,
   "id": "77bef56c",
   "metadata": {},
   "outputs": [],
   "source": [
    "import numpy"
   ]
  },
  {
   "cell_type": "code",
   "execution_count": 8,
   "id": "2028d35b",
   "metadata": {},
   "outputs": [
    {
     "name": "stdout",
     "output_type": "stream",
     "text": [
      "avg:  46.375 46.375\n",
      "std:  40.242817682165345 41.03333248713782\n"
     ]
    }
   ],
   "source": [
    "x1 = [8, 11, 16, 24, 30, 62, 100, 120]\n",
    "x2 = [7, 10, 15, 23, 31, 63, 101, 121]\n",
    "\n",
    "print(\"avg: \",numpy.mean(x1), numpy.mean(x2))\n",
    "print(\"std: \", numpy.std(x1), numpy.std(x2))\n"
   ]
  },
  {
   "cell_type": "markdown",
   "id": "07672a03",
   "metadata": {},
   "source": [
    "***Variance is often represented by the symbol Sigma Square: σ2***\n",
    "\n",
    "Variance is used to calculate std, square root of var is std"
   ]
  },
  {
   "cell_type": "code",
   "execution_count": 9,
   "id": "a03420b0",
   "metadata": {},
   "outputs": [
    {
     "name": "stdout",
     "output_type": "stream",
     "text": [
      "var:  1619.484375 1683.734375\n"
     ]
    }
   ],
   "source": [
    "print(\"var: \", numpy.var(x1), numpy.var(x2))"
   ]
  },
  {
   "cell_type": "markdown",
   "id": "9600d9b7",
   "metadata": {},
   "source": [
    "***What are Percentiles?***\n",
    "\n",
    "Percentiles are used in statistics to give you a number that describes \n",
    " the value that a given percent of the values are lower than.\n"
   ]
  },
  {
   "cell_type": "code",
   "execution_count": 16,
   "id": "da9a9bfe",
   "metadata": {},
   "outputs": [
    {
     "name": "stdout",
     "output_type": "stream",
     "text": [
      "82.0\n",
      "2.0\n",
      "31.0\n"
     ]
    }
   ],
   "source": [
    "ages = [5,31,43,48,50,41,7,11,15,39,80,82,32,2,8,6,25,36,27,61,31]\n",
    "\n",
    "maximum_value = numpy.percentile(ages, 100)\n",
    "minimum_value = numpy.percentile(ages, 0)\n",
    "\n",
    "median = numpy.percentile(ages, 50)\n",
    "\n",
    "print(maximum_value, minimum_value, median, sep=\"\\n\")"
   ]
  },
  {
   "cell_type": "code",
   "execution_count": null,
   "id": "8408a30e",
   "metadata": {},
   "outputs": [],
   "source": []
  }
 ],
 "metadata": {
  "kernelspec": {
   "display_name": "Python 3 (ipykernel)",
   "language": "python",
   "name": "python3"
  },
  "language_info": {
   "codemirror_mode": {
    "name": "ipython",
    "version": 3
   },
   "file_extension": ".py",
   "mimetype": "text/x-python",
   "name": "python",
   "nbconvert_exporter": "python",
   "pygments_lexer": "ipython3",
   "version": "3.10.1"
  }
 },
 "nbformat": 4,
 "nbformat_minor": 5
}
